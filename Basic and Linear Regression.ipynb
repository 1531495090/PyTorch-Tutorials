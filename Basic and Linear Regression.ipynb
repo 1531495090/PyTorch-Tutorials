{
 "cells": [
  {
   "cell_type": "code",
   "execution_count": 2,
   "metadata": {},
   "outputs": [],
   "source": [
    "import torch \n",
    "import torchvision\n",
    "import torch.nn as nn\n",
    "import numpy as np\n",
    "import torchvision.transforms as transforms\n",
    "import matplotlib.pyplot as plt"
   ]
  },
  {
   "cell_type": "code",
   "execution_count": 3,
   "metadata": {},
   "outputs": [
    {
     "name": "stdout",
     "output_type": "stream",
     "text": [
      "dx:  tensor(2.)\n",
      "dw:  tensor(1.)\n",
      "b:  tensor(3.)\n",
      "x:  tensor(1., requires_grad=True)\n",
      "None\n"
     ]
    }
   ],
   "source": [
    "# Create tensors. As for learning we need to compute the gradient also, so we use tensors  \n",
    "\n",
    "x = torch.tensor(1., requires_grad=True)\n",
    "w = torch.tensor(2., requires_grad=True)\n",
    "b = torch.tensor(3., requires_grad=False)\n",
    "\n",
    "# Build a computational graph.\n",
    "a = w*x\n",
    "y = a + b    # y = 2 * x + 3\n",
    "\n",
    "# Compute gradients.\n",
    "y.backward()\n",
    "\n",
    "# Print out the gradients.\n",
    "print(\"dx: \",x.grad)    # x.grad = 2 \n",
    "print(\"dw: \",w.grad)    # w.grad = 1 \n",
    "print(\"b: \",b)    # b.grad = 1 \n",
    "print(\"x: \", x)\n",
    "print(b.grad)"
   ]
  },
  {
   "cell_type": "code",
   "execution_count": 3,
   "metadata": {},
   "outputs": [
    {
     "name": "stdout",
     "output_type": "stream",
     "text": [
      "W: Parameter containing:\n",
      "tensor([[ 0.3043, -0.5016, -0.2386],\n",
      "        [ 0.0296,  0.1085, -0.1317]], requires_grad=True)\n",
      "b: Parameter containing:\n",
      "tensor([0.5423, 0.0027], requires_grad=True)\n"
     ]
    }
   ],
   "source": [
    "input = torch.randn(10, 3)#Note:10 is the number of examples and 3 is no. of feature \n",
    "output = torch.randn(10,2)#no. of output elements is 2(for an example), total examples 10\n",
    "\n",
    "c = nn.Linear(3,2)#takes 3 no. of input feature and gives 2 output feature\n",
    "print(\"W:\",c.weight)\n",
    "print(\"b:\", c.bias)"
   ]
  },
  {
   "cell_type": "code",
   "execution_count": 4,
   "metadata": {},
   "outputs": [
    {
     "name": "stdout",
     "output_type": "stream",
     "text": [
      "The value of a is:  tensor([[-0.8575,  1.3380],\n",
      "        [ 0.0211, -0.2638]])\n",
      "The value of c is:  [[-0.85748863  1.3379784 ]\n",
      " [ 0.02113914 -0.2638441 ]]\n",
      "The value of d is:  tensor([[-0.8575,  1.3380],\n",
      "        [ 0.0211, -0.2638]])\n"
     ]
    }
   ],
   "source": [
    "#torch to numpy and Vice versa\n",
    "a = torch.randn(2,2)\n",
    "c = a.numpy()\n",
    "d = torch.from_numpy(c)\n",
    "\n",
    "print(\"The value of a is: \",a)\n",
    "print(\"The value of c is: \",c)\n",
    "print(\"The value of d is: \",d)"
   ]
  },
  {
   "cell_type": "code",
   "execution_count": 5,
   "metadata": {},
   "outputs": [
    {
     "name": "stdout",
     "output_type": "stream",
     "text": [
      "The shape of X is:  (15, 1)\n",
      "Epoch [10/50], Loss: 4.9680\n",
      "Epoch [20/50], Loss: 0.9578\n",
      "Epoch [30/50], Loss: 0.2997\n",
      "Epoch [40/50], Loss: 0.1916\n",
      "Epoch [50/50], Loss: 0.1739\n"
     ]
    }
   ],
   "source": [
    "#Linear Regression \n",
    "\n",
    "input_size = 1\n",
    "output_size = 1\n",
    "num_epochs = 50\n",
    "learning_rate = 0.001\n",
    "\n",
    "#sample dataset\n",
    "x_train = np.array([[3.3], [4.4], [5.5], [6.71], [6.93], [4.168], \n",
    "                    [9.779], [6.182], [7.59], [2.167], [7.042], \n",
    "                    [10.791], [5.313], [7.997], [3.1]], dtype=np.float32)\n",
    "\n",
    "y_train = np.array([[1.7], [2.76], [2.09], [3.19], [1.694], [1.573], \n",
    "                    [3.366], [2.596], [2.53], [1.221], [2.827], \n",
    "                    [3.465], [1.65], [2.904], [1.3]], dtype=np.float32)\n",
    "print(\"The shape of X is: \", x_train.shape)\n",
    "\n",
    "model = nn.Linear(input_size, output_size)\n",
    "\n",
    "criterion = nn.MSELoss()#used to set the Loss. Here we have set Mean Square Error Loss\n",
    "optimizer = torch.optim.SGD(model.parameters(), lr = learning_rate)#this is used to set the optimizer you use to update the params\n",
    "\n",
    "for epoch in range(num_epochs):\n",
    "    inputs = torch.from_numpy(x_train)\n",
    "    labels = torch.from_numpy(y_train)\n",
    "    outputs = model(inputs)#input is passed to the data\n",
    "    loss = criterion(outputs, labels)#loss is computed here. Above we have just set the type of loss\n",
    "    optimizer.zero_grad()#It is always important set the gradient as zero before back propagating. \n",
    "    loss.backward()#now all the gradients are computed with respect to loss. In graph if you see it computes the derivative of the parameter which is used to calculate the loss\n",
    "    optimizer.step()#To update the parametes\n",
    "    \n",
    "    if (epoch+1) % 10 == 0:\n",
    "        print ('Epoch [{}/{}], Loss: {:.4f}'.format(epoch+1, num_epochs, loss.item()))\n"
   ]
  },
  {
   "cell_type": "code",
   "execution_count": 6,
   "metadata": {},
   "outputs": [
    {
     "data": {
      "image/png": "[encoded data removed]",
      "text/plain": [
       "<Figure size 432x288 with 1 Axes>"
      ]
     },
     "metadata": {},
     "output_type": "display_data"
    }
   ],
   "source": [
    "#continuation of above, plotting the graph\n",
    "predicted = model(torch.from_numpy(x_train)).detach().numpy()\n",
    "plt.plot(x_train, y_train, 'ro', label='Original data')\n",
    "plt.plot(x_train, predicted, label='Fitted line')\n",
    "plt.legend()\n",
    "plt.show()"
   ]
  },
  {
   "cell_type": "code",
   "execution_count": null,
   "metadata": {},
   "outputs": [],
   "source": []
  }
 ],
 "metadata": {
  "kernelspec": {
   "display_name": "Python 3",
   "language": "python",
   "name": "python3"
  },
  "language_info": {
   "codemirror_mode": {
    "name": "ipython",
    "version": 3
   },
   "file_extension": ".py",
   "mimetype": "text/x-python",
   "name": "python",
   "nbconvert_exporter": "python",
   "pygments_lexer": "ipython3",
   "version": "3.5.2"
  }
 },
 "nbformat": 4,
 "nbformat_minor": 2
}
